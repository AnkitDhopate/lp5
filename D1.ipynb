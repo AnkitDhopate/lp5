{
 "cells": [
  {
   "cell_type": "code",
   "execution_count": 4,
   "metadata": {},
   "outputs": [],
   "source": [
    "import numpy as np\n",
    "import pandas as pd\n",
    "import seaborn as sns\n",
    "import matplotlib.pyplot as plt"
   ]
  },
  {
   "cell_type": "code",
   "execution_count": 5,
   "metadata": {},
   "outputs": [],
   "source": [
    "data = pd.read_csv('./HousingData.csv')"
   ]
  },
  {
   "cell_type": "code",
   "execution_count": 6,
   "metadata": {},
   "outputs": [
    {
     "data": {
      "text/html": [
       "<div>\n",
       "<style scoped>\n",
       "    .dataframe tbody tr th:only-of-type {\n",
       "        vertical-align: middle;\n",
       "    }\n",
       "\n",
       "    .dataframe tbody tr th {\n",
       "        vertical-align: top;\n",
       "    }\n",
       "\n",
       "    .dataframe thead th {\n",
       "        text-align: right;\n",
       "    }\n",
       "</style>\n",
       "<table border=\"1\" class=\"dataframe\">\n",
       "  <thead>\n",
       "    <tr style=\"text-align: right;\">\n",
       "      <th></th>\n",
       "      <th>CRIM</th>\n",
       "      <th>ZN</th>\n",
       "      <th>INDUS</th>\n",
       "      <th>CHAS</th>\n",
       "      <th>NOX</th>\n",
       "      <th>RM</th>\n",
       "      <th>AGE</th>\n",
       "      <th>DIS</th>\n",
       "      <th>RAD</th>\n",
       "      <th>TAX</th>\n",
       "      <th>PTRATIO</th>\n",
       "      <th>B</th>\n",
       "      <th>LSTAT</th>\n",
       "      <th>MEDV</th>\n",
       "    </tr>\n",
       "  </thead>\n",
       "  <tbody>\n",
       "    <tr>\n",
       "      <th>498</th>\n",
       "      <td>0.23912</td>\n",
       "      <td>0.0</td>\n",
       "      <td>9.69</td>\n",
       "      <td>0.0</td>\n",
       "      <td>0.585</td>\n",
       "      <td>6.019</td>\n",
       "      <td>65.3</td>\n",
       "      <td>2.4091</td>\n",
       "      <td>6</td>\n",
       "      <td>391</td>\n",
       "      <td>19.2</td>\n",
       "      <td>396.90</td>\n",
       "      <td>12.92</td>\n",
       "      <td>21.2</td>\n",
       "    </tr>\n",
       "    <tr>\n",
       "      <th>188</th>\n",
       "      <td>0.12579</td>\n",
       "      <td>45.0</td>\n",
       "      <td>3.44</td>\n",
       "      <td>0.0</td>\n",
       "      <td>0.437</td>\n",
       "      <td>6.556</td>\n",
       "      <td>29.1</td>\n",
       "      <td>4.5667</td>\n",
       "      <td>5</td>\n",
       "      <td>398</td>\n",
       "      <td>15.2</td>\n",
       "      <td>382.84</td>\n",
       "      <td>4.56</td>\n",
       "      <td>29.8</td>\n",
       "    </tr>\n",
       "    <tr>\n",
       "      <th>105</th>\n",
       "      <td>0.13262</td>\n",
       "      <td>0.0</td>\n",
       "      <td>8.56</td>\n",
       "      <td>0.0</td>\n",
       "      <td>0.520</td>\n",
       "      <td>5.851</td>\n",
       "      <td>96.7</td>\n",
       "      <td>2.1069</td>\n",
       "      <td>5</td>\n",
       "      <td>384</td>\n",
       "      <td>20.9</td>\n",
       "      <td>394.05</td>\n",
       "      <td>16.47</td>\n",
       "      <td>19.5</td>\n",
       "    </tr>\n",
       "    <tr>\n",
       "      <th>211</th>\n",
       "      <td>0.37578</td>\n",
       "      <td>0.0</td>\n",
       "      <td>10.59</td>\n",
       "      <td>1.0</td>\n",
       "      <td>0.489</td>\n",
       "      <td>5.404</td>\n",
       "      <td>88.6</td>\n",
       "      <td>3.6650</td>\n",
       "      <td>4</td>\n",
       "      <td>277</td>\n",
       "      <td>18.6</td>\n",
       "      <td>395.24</td>\n",
       "      <td>23.98</td>\n",
       "      <td>19.3</td>\n",
       "    </tr>\n",
       "    <tr>\n",
       "      <th>299</th>\n",
       "      <td>0.05561</td>\n",
       "      <td>70.0</td>\n",
       "      <td>2.24</td>\n",
       "      <td>0.0</td>\n",
       "      <td>0.400</td>\n",
       "      <td>7.041</td>\n",
       "      <td>10.0</td>\n",
       "      <td>7.8278</td>\n",
       "      <td>5</td>\n",
       "      <td>358</td>\n",
       "      <td>14.8</td>\n",
       "      <td>371.58</td>\n",
       "      <td>4.74</td>\n",
       "      <td>29.0</td>\n",
       "    </tr>\n",
       "  </tbody>\n",
       "</table>\n",
       "</div>"
      ],
      "text/plain": [
       "        CRIM    ZN  INDUS  CHAS    NOX     RM   AGE     DIS  RAD  TAX  \\\n",
       "498  0.23912   0.0   9.69   0.0  0.585  6.019  65.3  2.4091    6  391   \n",
       "188  0.12579  45.0   3.44   0.0  0.437  6.556  29.1  4.5667    5  398   \n",
       "105  0.13262   0.0   8.56   0.0  0.520  5.851  96.7  2.1069    5  384   \n",
       "211  0.37578   0.0  10.59   1.0  0.489  5.404  88.6  3.6650    4  277   \n",
       "299  0.05561  70.0   2.24   0.0  0.400  7.041  10.0  7.8278    5  358   \n",
       "\n",
       "     PTRATIO       B  LSTAT  MEDV  \n",
       "498     19.2  396.90  12.92  21.2  \n",
       "188     15.2  382.84   4.56  29.8  \n",
       "105     20.9  394.05  16.47  19.5  \n",
       "211     18.6  395.24  23.98  19.3  \n",
       "299     14.8  371.58   4.74  29.0  "
      ]
     },
     "execution_count": 6,
     "metadata": {},
     "output_type": "execute_result"
    }
   ],
   "source": [
    "data.sample(5)"
   ]
  },
  {
   "cell_type": "code",
   "execution_count": 7,
   "metadata": {},
   "outputs": [],
   "source": [
    "data.rename(columns={'MEDV': 'PRICE'}, inplace=True)"
   ]
  },
  {
   "cell_type": "code",
   "execution_count": 8,
   "metadata": {},
   "outputs": [
    {
     "data": {
      "text/html": [
       "<div>\n",
       "<style scoped>\n",
       "    .dataframe tbody tr th:only-of-type {\n",
       "        vertical-align: middle;\n",
       "    }\n",
       "\n",
       "    .dataframe tbody tr th {\n",
       "        vertical-align: top;\n",
       "    }\n",
       "\n",
       "    .dataframe thead th {\n",
       "        text-align: right;\n",
       "    }\n",
       "</style>\n",
       "<table border=\"1\" class=\"dataframe\">\n",
       "  <thead>\n",
       "    <tr style=\"text-align: right;\">\n",
       "      <th></th>\n",
       "      <th>CRIM</th>\n",
       "      <th>ZN</th>\n",
       "      <th>INDUS</th>\n",
       "      <th>CHAS</th>\n",
       "      <th>NOX</th>\n",
       "      <th>RM</th>\n",
       "      <th>AGE</th>\n",
       "      <th>DIS</th>\n",
       "      <th>RAD</th>\n",
       "      <th>TAX</th>\n",
       "      <th>PTRATIO</th>\n",
       "      <th>B</th>\n",
       "      <th>LSTAT</th>\n",
       "      <th>PRICE</th>\n",
       "    </tr>\n",
       "  </thead>\n",
       "  <tbody>\n",
       "    <tr>\n",
       "      <th>414</th>\n",
       "      <td>45.74610</td>\n",
       "      <td>0.0</td>\n",
       "      <td>18.10</td>\n",
       "      <td>0.0</td>\n",
       "      <td>0.693</td>\n",
       "      <td>4.519</td>\n",
       "      <td>100.0</td>\n",
       "      <td>1.6582</td>\n",
       "      <td>24</td>\n",
       "      <td>666</td>\n",
       "      <td>20.2</td>\n",
       "      <td>88.27</td>\n",
       "      <td>36.98</td>\n",
       "      <td>7.0</td>\n",
       "    </tr>\n",
       "    <tr>\n",
       "      <th>462</th>\n",
       "      <td>6.65492</td>\n",
       "      <td>0.0</td>\n",
       "      <td>18.10</td>\n",
       "      <td>0.0</td>\n",
       "      <td>0.713</td>\n",
       "      <td>6.317</td>\n",
       "      <td>83.0</td>\n",
       "      <td>2.7344</td>\n",
       "      <td>24</td>\n",
       "      <td>666</td>\n",
       "      <td>20.2</td>\n",
       "      <td>396.90</td>\n",
       "      <td>13.99</td>\n",
       "      <td>19.5</td>\n",
       "    </tr>\n",
       "    <tr>\n",
       "      <th>323</th>\n",
       "      <td>0.28392</td>\n",
       "      <td>0.0</td>\n",
       "      <td>7.38</td>\n",
       "      <td>0.0</td>\n",
       "      <td>0.493</td>\n",
       "      <td>5.708</td>\n",
       "      <td>74.3</td>\n",
       "      <td>4.7211</td>\n",
       "      <td>5</td>\n",
       "      <td>287</td>\n",
       "      <td>19.6</td>\n",
       "      <td>391.13</td>\n",
       "      <td>11.74</td>\n",
       "      <td>18.5</td>\n",
       "    </tr>\n",
       "    <tr>\n",
       "      <th>238</th>\n",
       "      <td>0.08244</td>\n",
       "      <td>NaN</td>\n",
       "      <td>4.93</td>\n",
       "      <td>0.0</td>\n",
       "      <td>0.428</td>\n",
       "      <td>6.481</td>\n",
       "      <td>18.5</td>\n",
       "      <td>6.1899</td>\n",
       "      <td>6</td>\n",
       "      <td>300</td>\n",
       "      <td>16.6</td>\n",
       "      <td>379.41</td>\n",
       "      <td>6.36</td>\n",
       "      <td>23.7</td>\n",
       "    </tr>\n",
       "    <tr>\n",
       "      <th>333</th>\n",
       "      <td>0.05083</td>\n",
       "      <td>0.0</td>\n",
       "      <td>5.19</td>\n",
       "      <td>0.0</td>\n",
       "      <td>0.515</td>\n",
       "      <td>6.316</td>\n",
       "      <td>38.1</td>\n",
       "      <td>6.4584</td>\n",
       "      <td>5</td>\n",
       "      <td>224</td>\n",
       "      <td>20.2</td>\n",
       "      <td>389.71</td>\n",
       "      <td>5.68</td>\n",
       "      <td>22.2</td>\n",
       "    </tr>\n",
       "  </tbody>\n",
       "</table>\n",
       "</div>"
      ],
      "text/plain": [
       "         CRIM   ZN  INDUS  CHAS    NOX     RM    AGE     DIS  RAD  TAX  \\\n",
       "414  45.74610  0.0  18.10   0.0  0.693  4.519  100.0  1.6582   24  666   \n",
       "462   6.65492  0.0  18.10   0.0  0.713  6.317   83.0  2.7344   24  666   \n",
       "323   0.28392  0.0   7.38   0.0  0.493  5.708   74.3  4.7211    5  287   \n",
       "238   0.08244  NaN   4.93   0.0  0.428  6.481   18.5  6.1899    6  300   \n",
       "333   0.05083  0.0   5.19   0.0  0.515  6.316   38.1  6.4584    5  224   \n",
       "\n",
       "     PTRATIO       B  LSTAT  PRICE  \n",
       "414     20.2   88.27  36.98    7.0  \n",
       "462     20.2  396.90  13.99   19.5  \n",
       "323     19.6  391.13  11.74   18.5  \n",
       "238     16.6  379.41   6.36   23.7  \n",
       "333     20.2  389.71   5.68   22.2  "
      ]
     },
     "execution_count": 8,
     "metadata": {},
     "output_type": "execute_result"
    }
   ],
   "source": [
    "data.sample(5)"
   ]
  },
  {
   "cell_type": "code",
   "execution_count": 9,
   "metadata": {},
   "outputs": [
    {
     "name": "stdout",
     "output_type": "stream",
     "text": [
      "<class 'pandas.core.frame.DataFrame'>\n",
      "RangeIndex: 506 entries, 0 to 505\n",
      "Data columns (total 14 columns):\n",
      " #   Column   Non-Null Count  Dtype  \n",
      "---  ------   --------------  -----  \n",
      " 0   CRIM     486 non-null    float64\n",
      " 1   ZN       486 non-null    float64\n",
      " 2   INDUS    486 non-null    float64\n",
      " 3   CHAS     486 non-null    float64\n",
      " 4   NOX      506 non-null    float64\n",
      " 5   RM       506 non-null    float64\n",
      " 6   AGE      486 non-null    float64\n",
      " 7   DIS      506 non-null    float64\n",
      " 8   RAD      506 non-null    int64  \n",
      " 9   TAX      506 non-null    int64  \n",
      " 10  PTRATIO  506 non-null    float64\n",
      " 11  B        506 non-null    float64\n",
      " 12  LSTAT    486 non-null    float64\n",
      " 13  PRICE    506 non-null    float64\n",
      "dtypes: float64(12), int64(2)\n",
      "memory usage: 55.5 KB\n"
     ]
    }
   ],
   "source": [
    "data.info()"
   ]
  },
  {
   "cell_type": "code",
   "execution_count": 10,
   "metadata": {},
   "outputs": [
    {
     "data": {
      "text/plain": [
       "CRIM       20\n",
       "ZN         20\n",
       "INDUS      20\n",
       "CHAS       20\n",
       "NOX         0\n",
       "RM          0\n",
       "AGE        20\n",
       "DIS         0\n",
       "RAD         0\n",
       "TAX         0\n",
       "PTRATIO     0\n",
       "B           0\n",
       "LSTAT      20\n",
       "PRICE       0\n",
       "dtype: int64"
      ]
     },
     "execution_count": 10,
     "metadata": {},
     "output_type": "execute_result"
    }
   ],
   "source": [
    "data.isnull().sum()"
   ]
  },
  {
   "cell_type": "code",
   "execution_count": 11,
   "metadata": {},
   "outputs": [
    {
     "data": {
      "text/html": [
       "<div>\n",
       "<style scoped>\n",
       "    .dataframe tbody tr th:only-of-type {\n",
       "        vertical-align: middle;\n",
       "    }\n",
       "\n",
       "    .dataframe tbody tr th {\n",
       "        vertical-align: top;\n",
       "    }\n",
       "\n",
       "    .dataframe thead th {\n",
       "        text-align: right;\n",
       "    }\n",
       "</style>\n",
       "<table border=\"1\" class=\"dataframe\">\n",
       "  <thead>\n",
       "    <tr style=\"text-align: right;\">\n",
       "      <th></th>\n",
       "      <th>CRIM</th>\n",
       "      <th>ZN</th>\n",
       "      <th>INDUS</th>\n",
       "      <th>CHAS</th>\n",
       "      <th>NOX</th>\n",
       "      <th>RM</th>\n",
       "      <th>AGE</th>\n",
       "      <th>DIS</th>\n",
       "      <th>RAD</th>\n",
       "      <th>TAX</th>\n",
       "      <th>PTRATIO</th>\n",
       "      <th>B</th>\n",
       "      <th>LSTAT</th>\n",
       "      <th>PRICE</th>\n",
       "    </tr>\n",
       "  </thead>\n",
       "  <tbody>\n",
       "    <tr>\n",
       "      <th>count</th>\n",
       "      <td>486.000000</td>\n",
       "      <td>486.000000</td>\n",
       "      <td>486.000000</td>\n",
       "      <td>486.000000</td>\n",
       "      <td>506.000000</td>\n",
       "      <td>506.000000</td>\n",
       "      <td>486.000000</td>\n",
       "      <td>506.000000</td>\n",
       "      <td>506.000000</td>\n",
       "      <td>506.000000</td>\n",
       "      <td>506.000000</td>\n",
       "      <td>506.000000</td>\n",
       "      <td>486.000000</td>\n",
       "      <td>506.000000</td>\n",
       "    </tr>\n",
       "    <tr>\n",
       "      <th>mean</th>\n",
       "      <td>3.611874</td>\n",
       "      <td>11.211934</td>\n",
       "      <td>11.083992</td>\n",
       "      <td>0.069959</td>\n",
       "      <td>0.554695</td>\n",
       "      <td>6.284634</td>\n",
       "      <td>68.518519</td>\n",
       "      <td>3.795043</td>\n",
       "      <td>9.549407</td>\n",
       "      <td>408.237154</td>\n",
       "      <td>18.455534</td>\n",
       "      <td>356.674032</td>\n",
       "      <td>12.715432</td>\n",
       "      <td>22.532806</td>\n",
       "    </tr>\n",
       "    <tr>\n",
       "      <th>std</th>\n",
       "      <td>8.720192</td>\n",
       "      <td>23.388876</td>\n",
       "      <td>6.835896</td>\n",
       "      <td>0.255340</td>\n",
       "      <td>0.115878</td>\n",
       "      <td>0.702617</td>\n",
       "      <td>27.999513</td>\n",
       "      <td>2.105710</td>\n",
       "      <td>8.707259</td>\n",
       "      <td>168.537116</td>\n",
       "      <td>2.164946</td>\n",
       "      <td>91.294864</td>\n",
       "      <td>7.155871</td>\n",
       "      <td>9.197104</td>\n",
       "    </tr>\n",
       "    <tr>\n",
       "      <th>min</th>\n",
       "      <td>0.006320</td>\n",
       "      <td>0.000000</td>\n",
       "      <td>0.460000</td>\n",
       "      <td>0.000000</td>\n",
       "      <td>0.385000</td>\n",
       "      <td>3.561000</td>\n",
       "      <td>2.900000</td>\n",
       "      <td>1.129600</td>\n",
       "      <td>1.000000</td>\n",
       "      <td>187.000000</td>\n",
       "      <td>12.600000</td>\n",
       "      <td>0.320000</td>\n",
       "      <td>1.730000</td>\n",
       "      <td>5.000000</td>\n",
       "    </tr>\n",
       "    <tr>\n",
       "      <th>25%</th>\n",
       "      <td>0.081900</td>\n",
       "      <td>0.000000</td>\n",
       "      <td>5.190000</td>\n",
       "      <td>0.000000</td>\n",
       "      <td>0.449000</td>\n",
       "      <td>5.885500</td>\n",
       "      <td>45.175000</td>\n",
       "      <td>2.100175</td>\n",
       "      <td>4.000000</td>\n",
       "      <td>279.000000</td>\n",
       "      <td>17.400000</td>\n",
       "      <td>375.377500</td>\n",
       "      <td>7.125000</td>\n",
       "      <td>17.025000</td>\n",
       "    </tr>\n",
       "    <tr>\n",
       "      <th>50%</th>\n",
       "      <td>0.253715</td>\n",
       "      <td>0.000000</td>\n",
       "      <td>9.690000</td>\n",
       "      <td>0.000000</td>\n",
       "      <td>0.538000</td>\n",
       "      <td>6.208500</td>\n",
       "      <td>76.800000</td>\n",
       "      <td>3.207450</td>\n",
       "      <td>5.000000</td>\n",
       "      <td>330.000000</td>\n",
       "      <td>19.050000</td>\n",
       "      <td>391.440000</td>\n",
       "      <td>11.430000</td>\n",
       "      <td>21.200000</td>\n",
       "    </tr>\n",
       "    <tr>\n",
       "      <th>75%</th>\n",
       "      <td>3.560262</td>\n",
       "      <td>12.500000</td>\n",
       "      <td>18.100000</td>\n",
       "      <td>0.000000</td>\n",
       "      <td>0.624000</td>\n",
       "      <td>6.623500</td>\n",
       "      <td>93.975000</td>\n",
       "      <td>5.188425</td>\n",
       "      <td>24.000000</td>\n",
       "      <td>666.000000</td>\n",
       "      <td>20.200000</td>\n",
       "      <td>396.225000</td>\n",
       "      <td>16.955000</td>\n",
       "      <td>25.000000</td>\n",
       "    </tr>\n",
       "    <tr>\n",
       "      <th>max</th>\n",
       "      <td>88.976200</td>\n",
       "      <td>100.000000</td>\n",
       "      <td>27.740000</td>\n",
       "      <td>1.000000</td>\n",
       "      <td>0.871000</td>\n",
       "      <td>8.780000</td>\n",
       "      <td>100.000000</td>\n",
       "      <td>12.126500</td>\n",
       "      <td>24.000000</td>\n",
       "      <td>711.000000</td>\n",
       "      <td>22.000000</td>\n",
       "      <td>396.900000</td>\n",
       "      <td>37.970000</td>\n",
       "      <td>50.000000</td>\n",
       "    </tr>\n",
       "  </tbody>\n",
       "</table>\n",
       "</div>"
      ],
      "text/plain": [
       "             CRIM          ZN       INDUS        CHAS         NOX          RM  \\\n",
       "count  486.000000  486.000000  486.000000  486.000000  506.000000  506.000000   \n",
       "mean     3.611874   11.211934   11.083992    0.069959    0.554695    6.284634   \n",
       "std      8.720192   23.388876    6.835896    0.255340    0.115878    0.702617   \n",
       "min      0.006320    0.000000    0.460000    0.000000    0.385000    3.561000   \n",
       "25%      0.081900    0.000000    5.190000    0.000000    0.449000    5.885500   \n",
       "50%      0.253715    0.000000    9.690000    0.000000    0.538000    6.208500   \n",
       "75%      3.560262   12.500000   18.100000    0.000000    0.624000    6.623500   \n",
       "max     88.976200  100.000000   27.740000    1.000000    0.871000    8.780000   \n",
       "\n",
       "              AGE         DIS         RAD         TAX     PTRATIO           B  \\\n",
       "count  486.000000  506.000000  506.000000  506.000000  506.000000  506.000000   \n",
       "mean    68.518519    3.795043    9.549407  408.237154   18.455534  356.674032   \n",
       "std     27.999513    2.105710    8.707259  168.537116    2.164946   91.294864   \n",
       "min      2.900000    1.129600    1.000000  187.000000   12.600000    0.320000   \n",
       "25%     45.175000    2.100175    4.000000  279.000000   17.400000  375.377500   \n",
       "50%     76.800000    3.207450    5.000000  330.000000   19.050000  391.440000   \n",
       "75%     93.975000    5.188425   24.000000  666.000000   20.200000  396.225000   \n",
       "max    100.000000   12.126500   24.000000  711.000000   22.000000  396.900000   \n",
       "\n",
       "            LSTAT       PRICE  \n",
       "count  486.000000  506.000000  \n",
       "mean    12.715432   22.532806  \n",
       "std      7.155871    9.197104  \n",
       "min      1.730000    5.000000  \n",
       "25%      7.125000   17.025000  \n",
       "50%     11.430000   21.200000  \n",
       "75%     16.955000   25.000000  \n",
       "max     37.970000   50.000000  "
      ]
     },
     "execution_count": 11,
     "metadata": {},
     "output_type": "execute_result"
    }
   ],
   "source": [
    "data.describe()"
   ]
  },
  {
   "cell_type": "code",
   "execution_count": 12,
   "metadata": {},
   "outputs": [
    {
     "data": {
      "text/plain": [
       "0"
      ]
     },
     "execution_count": 12,
     "metadata": {},
     "output_type": "execute_result"
    }
   ],
   "source": [
    "data.duplicated().sum()"
   ]
  },
  {
   "cell_type": "code",
   "execution_count": 13,
   "metadata": {},
   "outputs": [],
   "source": [
    "CRIM_mean = data.CRIM.mean()\n",
    "data['CRIM'].fillna(value=CRIM_mean, inplace=True)"
   ]
  },
  {
   "cell_type": "code",
   "execution_count": 14,
   "metadata": {},
   "outputs": [],
   "source": [
    "ZN_mean = data.ZN.mean()\n",
    "data['ZN'].fillna(value=ZN_mean, inplace=True)\n",
    "\n",
    "INDUS_mean = data.INDUS.mean()\n",
    "data['INDUS'].fillna(value=INDUS_mean, inplace=True)\n",
    "\n",
    "CHAS_mean = data.CHAS.mean()\n",
    "data['CHAS'].fillna(value=CHAS_mean, inplace=True)\n",
    "\n",
    "AGE_mean = data.AGE.mean()\n",
    "data['AGE'].fillna(value=AGE_mean, inplace=True)\n",
    "\n",
    "LSTAT_mean = data.LSTAT.mean()\n",
    "data['LSTAT'].fillna(value=LSTAT_mean, inplace=True)"
   ]
  },
  {
   "cell_type": "code",
   "execution_count": 17,
   "metadata": {},
   "outputs": [
    {
     "data": {
      "text/plain": [
       "<AxesSubplot:xlabel='LSTAT'>"
      ]
     },
     "execution_count": 17,
     "metadata": {},
     "output_type": "execute_result"
    },
    {
     "data": {
      "image/png": "[encoded data removed]",
      "text/plain": [
       "<Figure size 432x288 with 1 Axes>"
      ]
     },
     "metadata": {
      "needs_background": "light"
     },
     "output_type": "display_data"
    }
   ],
   "source": [
    "sns.boxplot(x=data.LSTAT, data=data)"
   ]
  },
  {
   "cell_type": "code",
   "execution_count": 20,
   "metadata": {},
   "outputs": [
    {
     "data": {
      "image/png": "[encoded data removed]",
      "text/plain": [
       "<Figure size 1440x1080 with 16 Axes>"
      ]
     },
     "metadata": {
      "needs_background": "light"
     },
     "output_type": "display_data"
    }
   ],
   "source": [
    "figure, axis = plt.subplots(ncols=4, nrows=4, figsize=(20, 15))\n",
    "index = 0\n",
    "axis = axis.flatten()\n",
    "\n",
    "for key, value in data.items():\n",
    "    sns.boxplot(x=key, data=data, ax=axis[index])\n",
    "    index += 1"
   ]
  },
  {
   "cell_type": "code",
   "execution_count": 21,
   "metadata": {},
   "outputs": [],
   "source": [
    "Q1 = data['PRICE'].quantile(0.25)\n",
    "Q3 = data['PRICE'].quantile(0.75)\n",
    "IQR = Q3-Q1\n",
    "\n",
    "upper_limit = Q3+1.5*IQR\n",
    "lower_limit = Q1-1.5*IQR\n",
    "data = data[(data['PRICE']<=upper_limit) & (data['PRICE']>=lower_limit)]"
   ]
  },
  {
   "cell_type": "code",
   "execution_count": 22,
   "metadata": {},
   "outputs": [
    {
     "data": {
      "text/plain": [
       "(466, 14)"
      ]
     },
     "execution_count": 22,
     "metadata": {},
     "output_type": "execute_result"
    }
   ],
   "source": [
    "data.shape"
   ]
  },
  {
   "cell_type": "code",
   "execution_count": 23,
   "metadata": {},
   "outputs": [
    {
     "name": "stdout",
     "output_type": "stream",
     "text": [
      "<class 'pandas.core.frame.DataFrame'>\n",
      "Int64Index: 466 entries, 0 to 505\n",
      "Data columns (total 14 columns):\n",
      " #   Column   Non-Null Count  Dtype  \n",
      "---  ------   --------------  -----  \n",
      " 0   CRIM     466 non-null    float64\n",
      " 1   ZN       466 non-null    float64\n",
      " 2   INDUS    466 non-null    float64\n",
      " 3   CHAS     466 non-null    float64\n",
      " 4   NOX      466 non-null    float64\n",
      " 5   RM       466 non-null    float64\n",
      " 6   AGE      466 non-null    float64\n",
      " 7   DIS      466 non-null    float64\n",
      " 8   RAD      466 non-null    int64  \n",
      " 9   TAX      466 non-null    int64  \n",
      " 10  PTRATIO  466 non-null    float64\n",
      " 11  B        466 non-null    float64\n",
      " 12  LSTAT    466 non-null    float64\n",
      " 13  PRICE    466 non-null    float64\n",
      "dtypes: float64(12), int64(2)\n",
      "memory usage: 54.6 KB\n"
     ]
    }
   ],
   "source": [
    "data.info()"
   ]
  },
  {
   "cell_type": "code",
   "execution_count": 24,
   "metadata": {},
   "outputs": [
    {
     "data": {
      "text/plain": [
       "<AxesSubplot:xlabel='PRICE', ylabel='Count'>"
      ]
     },
     "execution_count": 24,
     "metadata": {},
     "output_type": "execute_result"
    },
    {
     "data": {
      "image/png": "[encoded data removed]",
      "text/plain": [
       "<Figure size 432x288 with 1 Axes>"
      ]
     },
     "metadata": {
      "needs_background": "light"
     },
     "output_type": "display_data"
    }
   ],
   "source": [
    "sns.histplot(data=data, x=data.PRICE, kde=True)"
   ]
  },
  {
   "cell_type": "code",
   "execution_count": 26,
   "metadata": {},
   "outputs": [
    {
     "data": {
      "text/plain": [
       "<AxesSubplot:>"
      ]
     },
     "execution_count": 26,
     "metadata": {},
     "output_type": "execute_result"
    },
    {
     "data": {
      "image/png": "[encoded data removed]",
      "text/plain": [
       "<Figure size 1008x1008 with 2 Axes>"
      ]
     },
     "metadata": {
      "needs_background": "light"
     },
     "output_type": "display_data"
    }
   ],
   "source": [
    "correl = data.corr()\n",
    "\n",
    "plt.figure(figsize=(14, 14))\n",
    "sns.heatmap(correl, annot=True)"
   ]
  },
  {
   "cell_type": "code",
   "execution_count": 54,
   "metadata": {},
   "outputs": [],
   "source": [
    "X = data.drop(columns=['PRICE'])\n",
    "y = data['PRICE']"
   ]
  },
  {
   "cell_type": "code",
   "execution_count": 56,
   "metadata": {},
   "outputs": [],
   "source": [
    "from sklearn.model_selection import train_test_split"
   ]
  },
  {
   "cell_type": "code",
   "execution_count": 57,
   "metadata": {},
   "outputs": [],
   "source": [
    "X_train, X_test, y_train, y_test = train_test_split(X, y, test_size=0.2, random_state=4)"
   ]
  },
  {
   "cell_type": "code",
   "execution_count": 58,
   "metadata": {},
   "outputs": [],
   "source": [
    "from sklearn.linear_model import LinearRegression\n",
    "regressor = LinearRegression()"
   ]
  },
  {
   "cell_type": "code",
   "execution_count": 59,
   "metadata": {},
   "outputs": [
    {
     "data": {
      "text/plain": [
       "LinearRegression()"
      ]
     },
     "execution_count": 59,
     "metadata": {},
     "output_type": "execute_result"
    }
   ],
   "source": [
    "regressor.fit(X_train, y_train)"
   ]
  },
  {
   "cell_type": "code",
   "execution_count": 61,
   "metadata": {},
   "outputs": [],
   "source": [
    "y_pred = regressor.predict(X_test)"
   ]
  },
  {
   "cell_type": "code",
   "execution_count": 62,
   "metadata": {},
   "outputs": [],
   "source": [
    "from sklearn.metrics import r2_score, mean_squared_error"
   ]
  },
  {
   "cell_type": "code",
   "execution_count": 63,
   "metadata": {},
   "outputs": [],
   "source": [
    "rmse = np.sqrt(mean_squared_error(y_test, y_pred))\n",
    "r2 = r2_score(y_test, y_pred)"
   ]
  },
  {
   "cell_type": "code",
   "execution_count": 64,
   "metadata": {},
   "outputs": [
    {
     "name": "stdout",
     "output_type": "stream",
     "text": [
      "RMSE  3.3488109265275403\n",
      "R2  0.6940087315957031\n"
     ]
    }
   ],
   "source": [
    "print(\"RMSE \", rmse)\n",
    "print(\"R2 \", r2)"
   ]
  },
  {
   "cell_type": "code",
   "execution_count": 65,
   "metadata": {},
   "outputs": [],
   "source": [
    "from sklearn.preprocessing import StandardScaler\n",
    "\n",
    "sc = StandardScaler()"
   ]
  },
  {
   "cell_type": "code",
   "execution_count": 66,
   "metadata": {},
   "outputs": [],
   "source": [
    "X_train = sc.fit_transform(X_train)\n",
    "X_test = sc.transform(X_test)"
   ]
  },
  {
   "cell_type": "code",
   "execution_count": 68,
   "metadata": {},
   "outputs": [],
   "source": [
    "import keras\n",
    "from keras.layers import Dense, Activation\n",
    "from keras.models import Sequential\n",
    "\n",
    "model = Sequential()"
   ]
  },
  {
   "cell_type": "code",
   "execution_count": 69,
   "metadata": {},
   "outputs": [],
   "source": [
    "model.add(Dense(128, activation='relu', input_dim=13))\n",
    "model.add(Dense(64, activation='relu'))\n",
    "model.add(Dense(32, activation='relu'))\n",
    "model.add(Dense(16, activation='relu'))\n",
    "model.add(Dense(1))\n",
    "\n",
    "model.compile(optimizer='adam', loss = 'mean_squared_error')"
   ]
  },
  {
   "cell_type": "code",
   "execution_count": 70,
   "metadata": {},
   "outputs": [
    {
     "name": "stdout",
     "output_type": "stream",
     "text": [
      "Epoch 1/100\n",
      "12/12 [==============================] - 1s 4ms/step - loss: 455.9438\n",
      "Epoch 2/100\n",
      "12/12 [==============================] - 0s 4ms/step - loss: 366.1047\n",
      "Epoch 3/100\n",
      "12/12 [==============================] - 0s 5ms/step - loss: 202.7685\n",
      "Epoch 4/100\n",
      "12/12 [==============================] - 0s 3ms/step - loss: 59.1249\n",
      "Epoch 5/100\n",
      "12/12 [==============================] - 0s 3ms/step - loss: 39.1369\n",
      "Epoch 6/100\n",
      "12/12 [==============================] - 0s 4ms/step - loss: 22.4126\n",
      "Epoch 7/100\n",
      "12/12 [==============================] - 0s 7ms/step - loss: 18.0241\n",
      "Epoch 8/100\n",
      "12/12 [==============================] - 0s 4ms/step - loss: 15.5968\n",
      "Epoch 9/100\n",
      "12/12 [==============================] - 0s 7ms/step - loss: 13.9885\n",
      "Epoch 10/100\n",
      "12/12 [==============================] - 0s 6ms/step - loss: 12.9421\n",
      "Epoch 11/100\n",
      "12/12 [==============================] - 0s 4ms/step - loss: 12.2905\n",
      "Epoch 12/100\n",
      "12/12 [==============================] - 0s 4ms/step - loss: 11.5995\n",
      "Epoch 13/100\n",
      "12/12 [==============================] - 0s 6ms/step - loss: 10.9852\n",
      "Epoch 14/100\n",
      "12/12 [==============================] - 0s 4ms/step - loss: 10.5835\n",
      "Epoch 15/100\n",
      "12/12 [==============================] - 0s 5ms/step - loss: 10.2751\n",
      "Epoch 16/100\n",
      "12/12 [==============================] - 0s 4ms/step - loss: 9.7090\n",
      "Epoch 17/100\n",
      "12/12 [==============================] - 0s 5ms/step - loss: 9.3605\n",
      "Epoch 18/100\n",
      "12/12 [==============================] - 0s 5ms/step - loss: 9.1042\n",
      "Epoch 19/100\n",
      "12/12 [==============================] - 0s 3ms/step - loss: 8.8558\n",
      "Epoch 20/100\n",
      "12/12 [==============================] - 0s 5ms/step - loss: 8.5348\n",
      "Epoch 21/100\n",
      "12/12 [==============================] - 0s 3ms/step - loss: 8.4093\n",
      "Epoch 22/100\n",
      "12/12 [==============================] - 0s 3ms/step - loss: 8.2381\n",
      "Epoch 23/100\n",
      "12/12 [==============================] - 0s 19ms/step - loss: 8.0250\n",
      "Epoch 24/100\n",
      "12/12 [==============================] - 0s 4ms/step - loss: 7.8703\n",
      "Epoch 25/100\n",
      "12/12 [==============================] - 0s 3ms/step - loss: 7.7578\n",
      "Epoch 26/100\n",
      "12/12 [==============================] - 0s 2ms/step - loss: 7.6046\n",
      "Epoch 27/100\n",
      "12/12 [==============================] - 0s 2ms/step - loss: 7.5279\n",
      "Epoch 28/100\n",
      "12/12 [==============================] - 0s 2ms/step - loss: 7.2514\n",
      "Epoch 29/100\n",
      "12/12 [==============================] - 0s 2ms/step - loss: 7.1712\n",
      "Epoch 30/100\n",
      "12/12 [==============================] - 0s 2ms/step - loss: 7.1469\n",
      "Epoch 31/100\n",
      "12/12 [==============================] - 0s 2ms/step - loss: 6.9704\n",
      "Epoch 32/100\n",
      "12/12 [==============================] - 0s 7ms/step - loss: 6.7903\n",
      "Epoch 33/100\n",
      "12/12 [==============================] - 0s 2ms/step - loss: 6.8021\n",
      "Epoch 34/100\n",
      "12/12 [==============================] - 0s 2ms/step - loss: 6.6722\n",
      "Epoch 35/100\n",
      "12/12 [==============================] - 0s 2ms/step - loss: 6.6711\n",
      "Epoch 36/100\n",
      "12/12 [==============================] - 0s 2ms/step - loss: 6.7413\n",
      "Epoch 37/100\n",
      "12/12 [==============================] - 0s 2ms/step - loss: 6.5775\n",
      "Epoch 38/100\n",
      "12/12 [==============================] - 0s 2ms/step - loss: 6.2969\n",
      "Epoch 39/100\n",
      "12/12 [==============================] - 0s 2ms/step - loss: 6.1743\n",
      "Epoch 40/100\n",
      "12/12 [==============================] - 0s 1ms/step - loss: 6.1228\n",
      "Epoch 41/100\n",
      "12/12 [==============================] - 0s 1ms/step - loss: 6.0055\n",
      "Epoch 42/100\n",
      "12/12 [==============================] - 0s 2ms/step - loss: 6.1922\n",
      "Epoch 43/100\n",
      "12/12 [==============================] - 0s 3ms/step - loss: 5.9232\n",
      "Epoch 44/100\n",
      "12/12 [==============================] - 0s 1ms/step - loss: 5.8112\n",
      "Epoch 45/100\n",
      "12/12 [==============================] - 0s 1ms/step - loss: 5.7560\n",
      "Epoch 46/100\n",
      "12/12 [==============================] - 0s 1ms/step - loss: 5.7154\n",
      "Epoch 47/100\n",
      "12/12 [==============================] - 0s 728us/step - loss: 5.6529\n",
      "Epoch 48/100\n",
      "12/12 [==============================] - 0s 1ms/step - loss: 5.6076\n",
      "Epoch 49/100\n",
      "12/12 [==============================] - 0s 20ms/step - loss: 5.4255\n",
      "Epoch 50/100\n",
      "12/12 [==============================] - 0s 4ms/step - loss: 5.3790\n",
      "Epoch 51/100\n",
      "12/12 [==============================] - 0s 3ms/step - loss: 5.3840\n",
      "Epoch 52/100\n",
      "12/12 [==============================] - 0s 2ms/step - loss: 5.1959\n",
      "Epoch 53/100\n",
      "12/12 [==============================] - 0s 2ms/step - loss: 5.1569\n",
      "Epoch 54/100\n",
      "12/12 [==============================] - 0s 2ms/step - loss: 5.0607\n",
      "Epoch 55/100\n",
      "12/12 [==============================] - 0s 2ms/step - loss: 4.9505\n",
      "Epoch 56/100\n",
      "12/12 [==============================] - 0s 2ms/step - loss: 4.8995\n",
      "Epoch 57/100\n",
      "12/12 [==============================] - 0s 2ms/step - loss: 5.1150\n",
      "Epoch 58/100\n",
      "12/12 [==============================] - 0s 2ms/step - loss: 4.8000\n",
      "Epoch 59/100\n",
      "12/12 [==============================] - 0s 2ms/step - loss: 4.8696\n",
      "Epoch 60/100\n",
      "12/12 [==============================] - 0s 2ms/step - loss: 4.8769\n",
      "Epoch 61/100\n",
      "12/12 [==============================] - 0s 3ms/step - loss: 4.7466\n",
      "Epoch 62/100\n",
      "12/12 [==============================] - 0s 2ms/step - loss: 4.5989\n",
      "Epoch 63/100\n",
      "12/12 [==============================] - 0s 2ms/step - loss: 4.5716\n",
      "Epoch 64/100\n",
      "12/12 [==============================] - 0s 2ms/step - loss: 4.4642\n",
      "Epoch 65/100\n",
      "12/12 [==============================] - 0s 2ms/step - loss: 4.4863\n",
      "Epoch 66/100\n",
      "12/12 [==============================] - 0s 2ms/step - loss: 4.3969\n",
      "Epoch 67/100\n",
      "12/12 [==============================] - 0s 2ms/step - loss: 4.3148\n",
      "Epoch 68/100\n",
      "12/12 [==============================] - 0s 3ms/step - loss: 4.4122\n",
      "Epoch 69/100\n",
      "12/12 [==============================] - 0s 3ms/step - loss: 4.2830\n",
      "Epoch 70/100\n",
      "12/12 [==============================] - 0s 2ms/step - loss: 4.2876\n",
      "Epoch 71/100\n",
      "12/12 [==============================] - 0s 2ms/step - loss: 4.1838\n",
      "Epoch 72/100\n",
      "12/12 [==============================] - 0s 2ms/step - loss: 4.0453\n",
      "Epoch 73/100\n",
      "12/12 [==============================] - 0s 2ms/step - loss: 4.1723\n",
      "Epoch 74/100\n",
      "12/12 [==============================] - 0s 2ms/step - loss: 4.0112\n",
      "Epoch 75/100\n",
      "12/12 [==============================] - 0s 2ms/step - loss: 3.9044\n",
      "Epoch 76/100\n",
      "12/12 [==============================] - 0s 2ms/step - loss: 4.0732\n",
      "Epoch 77/100\n",
      "12/12 [==============================] - 0s 2ms/step - loss: 4.1411\n",
      "Epoch 78/100\n",
      "12/12 [==============================] - 0s 2ms/step - loss: 4.4028\n",
      "Epoch 79/100\n",
      "12/12 [==============================] - 0s 1ms/step - loss: 3.8769\n",
      "Epoch 80/100\n",
      "12/12 [==============================] - 0s 1ms/step - loss: 3.9493\n",
      "Epoch 81/100\n",
      "12/12 [==============================] - 0s 1ms/step - loss: 3.8829\n",
      "Epoch 82/100\n",
      "12/12 [==============================] - 0s 1ms/step - loss: 3.7682\n",
      "Epoch 83/100\n",
      "12/12 [==============================] - 0s 1ms/step - loss: 3.8744\n",
      "Epoch 84/100\n",
      "12/12 [==============================] - 0s 3ms/step - loss: 3.7879\n",
      "Epoch 85/100\n",
      "12/12 [==============================] - 0s 1ms/step - loss: 3.5855\n",
      "Epoch 86/100\n",
      "12/12 [==============================] - 0s 1ms/step - loss: 3.5297\n",
      "Epoch 87/100\n",
      "12/12 [==============================] - 0s 1ms/step - loss: 3.3777\n",
      "Epoch 88/100\n",
      "12/12 [==============================] - 0s 1ms/step - loss: 3.4246\n",
      "Epoch 89/100\n",
      "12/12 [==============================] - 0s 1ms/step - loss: 3.2912\n",
      "Epoch 90/100\n",
      "12/12 [==============================] - 0s 1ms/step - loss: 3.3312\n",
      "Epoch 91/100\n",
      "12/12 [==============================] - 0s 2ms/step - loss: 3.3278\n",
      "Epoch 92/100\n",
      "12/12 [==============================] - 0s 3ms/step - loss: 3.3377\n",
      "Epoch 93/100\n",
      "12/12 [==============================] - 0s 3ms/step - loss: 3.3192\n",
      "Epoch 94/100\n",
      "12/12 [==============================] - 0s 2ms/step - loss: 3.1360\n",
      "Epoch 95/100\n",
      "12/12 [==============================] - 0s 2ms/step - loss: 3.1112\n",
      "Epoch 96/100\n",
      "12/12 [==============================] - 0s 2ms/step - loss: 3.1500\n",
      "Epoch 97/100\n",
      "12/12 [==============================] - 0s 4ms/step - loss: 3.5481\n",
      "Epoch 98/100\n",
      "12/12 [==============================] - 0s 2ms/step - loss: 3.3178\n",
      "Epoch 99/100\n",
      "12/12 [==============================] - 0s 4ms/step - loss: 3.0376\n",
      "Epoch 100/100\n",
      "12/12 [==============================] - 0s 3ms/step - loss: 3.2157\n"
     ]
    },
    {
     "data": {
      "text/plain": [
       "<keras.callbacks.History at 0x29db6a99fd0>"
      ]
     },
     "execution_count": 70,
     "metadata": {},
     "output_type": "execute_result"
    }
   ],
   "source": [
    "model.fit(X_train, y_train, epochs=100)"
   ]
  },
  {
   "cell_type": "code",
   "execution_count": 71,
   "metadata": {},
   "outputs": [
    {
     "name": "stdout",
     "output_type": "stream",
     "text": [
      "3/3 [==============================] - 0s 3ms/step\n"
     ]
    }
   ],
   "source": [
    "y_pred = model.predict(X_test)"
   ]
  },
  {
   "cell_type": "code",
   "execution_count": 73,
   "metadata": {},
   "outputs": [
    {
     "name": "stdout",
     "output_type": "stream",
     "text": [
      "RMSE  2.8990299022870945\n",
      "R2  0.7706846283221399\n"
     ]
    }
   ],
   "source": [
    "rmse = np.sqrt(mean_squared_error(y_test, y_pred))\n",
    "r2 = r2_score(y_test, y_pred)\n",
    "\n",
    "print(\"RMSE \", rmse)\n",
    "print(\"R2 \", r2)"
   ]
  },
  {
   "cell_type": "code",
   "execution_count": null,
   "metadata": {},
   "outputs": [],
   "source": []
  },
  {
   "cell_type": "code",
   "execution_count": null,
   "metadata": {},
   "outputs": [],
   "source": []
  },
  {
   "cell_type": "code",
   "execution_count": null,
   "metadata": {},
   "outputs": [],
   "source": []
  }
 ],
 "metadata": {
  "kernelspec": {
   "display_name": "Python 3",
   "language": "python",
   "name": "python3"
  },
  "language_info": {
   "codemirror_mode": {
    "name": "ipython",
    "version": 3
   },
   "file_extension": ".py",
   "mimetype": "text/x-python",
   "name": "python",
   "nbconvert_exporter": "python",
   "pygments_lexer": "ipython3",
   "version": "3.8.5"
  }
 },
 "nbformat": 4,
 "nbformat_minor": 4
}
